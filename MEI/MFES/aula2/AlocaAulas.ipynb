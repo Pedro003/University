{
 "cells": [
  {
   "cell_type": "markdown",
   "metadata": {},
   "source": [
    "# Alocação de aulas\n",
    "\n",
    " Num curso de formação temos 5 aulas consecutivas e temos 3 formadores (a Ana, a Beatriz e o Carlos) capazes de dar qualquer aula. Queremos alocar os formadores à diversas aulas, obedecendo às seguintes restrições:\n",
    "\n",
    "1. O Carlos não pode dar a primeira aula.\n",
    "2. Se a Beatriz der a primeira aula, não poderá dar a última.\n",
    "3. Cada aula tem pelo menos um formador.\n",
    "4. As quatro primeiras aulas têm no máximo um formador.\n",
    "5. A última aula pode ter no máximo dois formadores.\n",
    "6. Nenhum formador pode dar 4 aulas consecutivas.\n",
    "\n",
    "Pretende-se que escreva um programa Python que, usando o Z3 como SAT solver, faça a distribuição das formadores pelas aulas.\n",
    "\n",
    "Começe por instalar o Z3."
   ]
  },
  {
   "cell_type": "code",
   "execution_count": 1,
   "metadata": {},
   "outputs": [
    {
     "name": "stdout",
     "output_type": "stream",
     "text": [
      "Defaulting to user installation because normal site-packages is not writeable\n",
      "Requirement already satisfied: z3-solver in /home/hunk/.local/lib/python3.10/site-packages (4.13.0.0)\n"
     ]
    }
   ],
   "source": [
    "!pip install z3-solver"
   ]
  },
  {
   "cell_type": "markdown",
   "metadata": {},
   "source": [
    "Para resolver o problema em Lógica Proposicional temos que\n",
    "\n",
    "1. Declarar um conjunto de variáveis Boolenas\n",
    "$x_{f,a}$ com a seguinte semântica:\n",
    "\n",
    "  > $x_{f,a}$ é verdade  *sse*   o formaldor $f$  dá a aula $a$\n",
    "\n",
    "2. De seguida, teremos que modelar cada uma das restrições, acrescentando as fórmulas lógicas correspondentes.\n",
    "\n",
    "3. Finalmente testamos se o conjunto de restrições é satisfazível e extraimos a solução calculada.  \n"
   ]
  },
  {
   "cell_type": "code",
   "execution_count": null,
   "metadata": {},
   "outputs": [],
   "source": [
    "from z3 import *\n",
    "\n",
    "formadores = [\"Ana\", \"Beatriz\", \"Carlos\"]\n",
    "aulas = [\"aula1\", \"aula2\", \"aula3\", \"aula4\", \"aula5\"]\n",
    "x = {}\n",
    "for f in formadores:\n",
    "    x[f] = {}\n",
    "    for a in aulas:\n",
    "        x[f][a] = Bool(\"%s,%s\" % (f,a))\n",
    "\n",
    "s = Solver()\n",
    "\n",
    "#Restrições \n",
    "\n",
    "# 1. O Carlos não pode dar a primeira aula.\n",
    "Res1 = Not(x[\"Carlos\"][\"aula1\"])\n",
    "s.add(Res1)\n",
    "\n",
    "# 2. Se a Beatriz der a primeira aula, não poderá dar a última.\n",
    "Res2 = Or(Not(x[\"Beatriz\"][\"aula1\"], Not(x[\"Beatriz\"][\"aula5\"])))\n",
    "s.add(Res2)\n",
    "\n",
    "# 3. Cada aula tem pelo menos um formador\n",
    "for a in aulas:\n",
    "    Res3 = Sum([If(x[f][a], 1, 0) for f in formadores]) >= 1\n",
    "    s.add(Res3)\n",
    "\n",
    "# 4. As quatro primeiras aulas têm no máximo um formador\n",
    "# 5. A última aula pode ter no máximo dois formadores\n",
    "for a in aulas:\n",
    "    if a != \"aula5\":\n",
    "        Res4 = Sum([If(x[f][a], 1, 0) for f in formadores]) <= 1\n",
    "        s.add(Res4)\n",
    "    else:\n",
    "        Res5 = Sum([If(x[f][a], 1, 0) for f in formadores]) <= 2\n",
    "        s.add(Res5)\n",
    "\n",
    "# 6. Nenhum formador pode dar 4 aulas consecutivas\n",
    "           \n"
   ]
  },
  {
   "cell_type": "markdown",
   "metadata": {},
   "source": [
    "Será que há várias alternativas para distribuir os formadores pelas aulas seguindo estas regras?\n",
    "Faça as alterações necessárias ao programa de modo a saber todas as distribuições possíveis."
   ]
  },
  {
   "cell_type": "code",
   "execution_count": null,
   "metadata": {},
   "outputs": [],
   "source": []
  }
 ],
 "metadata": {
  "kernelspec": {
   "display_name": "Python 3",
   "language": "python",
   "name": "python3"
  },
  "language_info": {
   "codemirror_mode": {
    "name": "ipython",
    "version": 3
   },
   "file_extension": ".py",
   "mimetype": "text/x-python",
   "name": "python",
   "nbconvert_exporter": "python",
   "pygments_lexer": "ipython3",
   "version": "3.10.12"
  }
 },
 "nbformat": 4,
 "nbformat_minor": 2
}
