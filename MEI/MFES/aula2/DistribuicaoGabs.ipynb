{
 "cells": [
  {
   "cell_type": "code",
   "execution_count": 6,
   "metadata": {},
   "outputs": [
    {
     "name": "stdout",
     "output_type": "stream",
     "text": [
      "Defaulting to user installation because normal site-packages is not writeable\n",
      "Requirement already satisfied: z3-solver in /home/hunk/.local/lib/python3.10/site-packages (4.13.0.0)\n"
     ]
    }
   ],
   "source": [
    "!pip install z3-solver"
   ]
  },
  {
   "cell_type": "code",
   "execution_count": 16,
   "metadata": {},
   "outputs": [
    {
     "name": "stdout",
     "output_type": "stream",
     "text": [
      "Ana fica no gabinete 3\n",
      "Nuno fica no gabinete 3\n",
      "Pedro fica no gabinete 1\n",
      "Maria fica no gabinete 2\n"
     ]
    }
   ],
   "source": [
    "from z3 import *\n",
    "\n",
    "pessoas = [\"Ana\",\"Nuno\",\"Pedro\",\"Maria\"]\n",
    "gabs = [1,2,3]\n",
    "x = {}\n",
    "for p in pessoas:\n",
    "    x[p] = {}\n",
    "    for g in gabs:\n",
    "        x[p][g] = Bool(\"%s,%d\" % (p,g))\n",
    "\n",
    "s = Solver()\n",
    "\n",
    "\n",
    "\n",
    "# Cada pessoa ocupa pelo menos um gabinete.\n",
    "for p in pessoas:\n",
    "    s.add(Or([x[p][g] for g in gabs]))\n",
    "\n",
    "# Cada pessoa ocupa no máximo um gabinete.\n",
    "for p in pessoas:\n",
    "    s.add(Sum([If(x[p][g], 1, 0) for g in gabs]) == 1)\n",
    "\n",
    "# O Nuno e o Pedro não podem partilhar gabinete.\n",
    "for g in gabs:\n",
    "    s.add(Or(Not(x[\"Pedro\"][g]), Not(x[\"Nuno\"][g])))\n",
    "\n",
    "# Se a Ana ficar sozinha num gabinete, então o Pedro também terá\n",
    "# que ficar sozinho num gabinete.\n",
    "s.add(And((Sum([If(x[\"Ana\"][g], 1, 0) for g in gabs]) == 1),(Sum([If(x[\"Pedro\"][g], 1, 0) for g in gabs]) == 1))) #Não sei se está certa\n",
    "\n",
    "# Cada gabinete só pode acomodar, no máximo, 2 pessoas.\n",
    "for g in gabs:\n",
    "    s.add(Sum([If(x[p][g], 1, 0) for p in pessoas]) <= 2)\n",
    "\n",
    "s.push()\n",
    "\n",
    "if s.check() == sat:\n",
    "    m = s.model()\n",
    "    for p in pessoas:\n",
    "        for g in gabs:\n",
    "            if is_true(m[x[p][g]]):\n",
    "                print(\"%s fica no gabinete %s\" % (p,g))\n",
    "else:\n",
    "  print(\"Não tem solução.\")"
   ]
  },
  {
   "cell_type": "code",
   "execution_count": null,
   "metadata": {},
   "outputs": [],
   "source": [
    "#Faça as alterações necessárias ao programa de modo a saber todas as distribuições possíveis\n",
    "\n"
   ]
  }
 ],
 "metadata": {
  "kernelspec": {
   "display_name": "Python 3",
   "language": "python",
   "name": "python3"
  },
  "language_info": {
   "codemirror_mode": {
    "name": "ipython",
    "version": 3
   },
   "file_extension": ".py",
   "mimetype": "text/x-python",
   "name": "python",
   "nbconvert_exporter": "python",
   "pygments_lexer": "ipython3",
   "version": "3.10.12"
  }
 },
 "nbformat": 4,
 "nbformat_minor": 2
}
