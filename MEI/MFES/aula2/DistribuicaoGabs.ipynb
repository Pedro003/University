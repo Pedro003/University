{
 "cells": [
  {
   "cell_type": "code",
   "execution_count": 1,
   "metadata": {},
   "outputs": [
    {
     "name": "stdout",
     "output_type": "stream",
     "text": [
      "Defaulting to user installation because normal site-packages is not writeable\n",
      "Collecting z3-solver\n",
      "  Downloading z3_solver-4.13.0.0-py2.py3-none-manylinux2014_x86_64.whl (57.3 MB)\n",
      "\u001b[2K     \u001b[90m━━━━━━━━━━━━━━━━━━━━━━━━━━━━━━━━━━━━━━━━\u001b[0m \u001b[32m57.3/57.3 MB\u001b[0m \u001b[31m1.5 MB/s\u001b[0m eta \u001b[36m0:00:00\u001b[0m00:01\u001b[0m00:01\u001b[0m\n",
      "\u001b[?25hInstalling collected packages: z3-solver\n",
      "Successfully installed z3-solver-4.13.0.0\n"
     ]
    }
   ],
   "source": [
    "!pip install z3-solver"
   ]
  },
  {
   "cell_type": "code",
   "execution_count": 28,
   "metadata": {},
   "outputs": [
    {
     "name": "stdout",
     "output_type": "stream",
     "text": [
      "Ana fica no gabinete 2\n",
      "Nuno fica no gabinete 2\n",
      "Pedro fica no gabinete 1\n",
      "Maria fica no gabinete 2\n"
     ]
    }
   ],
   "source": [
    "from z3 import *\n",
    "\n",
    "pessoas = [\"Ana\",\"Nuno\",\"Pedro\",\"Maria\"]\n",
    "gabs = [1,2,3]\n",
    "x = {}\n",
    "for p in pessoas:\n",
    "    x[p] = {}\n",
    "    for g in gabs:\n",
    "        x[p][g] = Bool(\"%s,%d\" % (p,g))\n",
    "\n",
    "s = Solver()\n",
    "\n",
    "\n",
    "\n",
    "# Cada pessoa ocupa pelo menos um gabinete.\n",
    "for p in pessoas:\n",
    "    s.add(Or([x[p][g] for g in gabs]))\n",
    "\n",
    "# Cada pessoa ocupa no máximo um gabinete.\n",
    "for p in pessoas:\n",
    "    s.add(Sum([If(x[p][g], 1, 0) for g in gabs]) == 1)\n",
    "\n",
    "# O Nuno e o Pedro não podem partilhar gabinete.\n",
    "for g in gabs:\n",
    "    s.add(Or(Not(x[\"Pedro\"][g]), Not(x[\"Nuno\"][g])))\n",
    "\n",
    "# Se a Ana ficar sozinha num gabinete, então o Pedro também terá\n",
    "# que ficar sozinho num gabinete.\n",
    "#(falta)\n",
    "\n",
    "# Cada gabinete só pode acomodar, no máximo, 2 pessoas.\n",
    "for g in gabs:\n",
    "    s.add(sum(If(x[p][g], 1, 0) for p in pessoas) == 2) #acho que está certo\n",
    "\n",
    "s.push()\n",
    "\n",
    "if s.check() == sat:\n",
    "    m = s.model()\n",
    "    for p in pessoas:\n",
    "        for g in gabs:\n",
    "            if is_true(m[x[p][g]]):\n",
    "                print(\"%s fica no gabinete %s\" % (p,g))\n",
    "else:\n",
    "  print(\"Não tem solução.\")"
   ]
  }
 ],
 "metadata": {
  "kernelspec": {
   "display_name": "Python 3",
   "language": "python",
   "name": "python3"
  },
  "language_info": {
   "codemirror_mode": {
    "name": "ipython",
    "version": 3
   },
   "file_extension": ".py",
   "mimetype": "text/x-python",
   "name": "python",
   "nbconvert_exporter": "python",
   "pygments_lexer": "ipython3",
   "version": "3.10.12"
  }
 },
 "nbformat": 4,
 "nbformat_minor": 2
}
